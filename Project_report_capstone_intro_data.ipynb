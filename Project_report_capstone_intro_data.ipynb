{
 "cells": [
  {
   "cell_type": "markdown",
   "metadata": {},
   "source": [
    "# Finding the best location for a vegan restaurant in three metropolitan areas\n",
    "\n",
    "## Introduction/Business Problem\n",
    "\n",
    "\n",
    "We are interested in opening a vegan restaurant and have a preference for one of the following cities: New York City, Chicago or Los Angeles.\n",
    "\n",
    "Which city is most suitable in terms of vegan restaurant demand? What types of cuisines or pricings should our restaurant provide?\n",
    "\n",
    "This project will be of interest to stakeholders who want to open a vegan restaurant in an urban area or want to know about the distribution of vegan restaurants in terms of location, type of cuisine, pricing and popularity, as well as how these factors change as a function of time.\n",
    "\n",
    "## Data sources\n",
    "Using the Foursquare API (https://developer.foursquare.com/places) we can retrieve current and historical information about restaurants in the three cities of interest, including location, neighborhood characteristics, rating, and type of cuisine."
   ]
  }
 ],
 "metadata": {
  "kernelspec": {
   "display_name": "Python 3",
   "language": "python",
   "name": "python3"
  },
  "language_info": {
   "codemirror_mode": {
    "name": "ipython",
    "version": 3
   },
   "file_extension": ".py",
   "mimetype": "text/x-python",
   "name": "python",
   "nbconvert_exporter": "python",
   "pygments_lexer": "ipython3",
   "version": "3.7.3"
  }
 },
 "nbformat": 4,
 "nbformat_minor": 4
}
